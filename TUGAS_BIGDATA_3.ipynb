{
  "nbformat": 4,
  "nbformat_minor": 0,
  "metadata": {
    "colab": {
      "provenance": [],
      "authorship_tag": "ABX9TyMVURU82MjXPLpdeMDW7JaX",
      "include_colab_link": true
    },
    "kernelspec": {
      "name": "python3",
      "display_name": "Python 3"
    },
    "language_info": {
      "name": "python"
    }
  },
  "cells": [
    {
      "cell_type": "markdown",
      "metadata": {
        "id": "view-in-github",
        "colab_type": "text"
      },
      "source": [
        "<a href=\"https://colab.research.google.com/github/hakkanazrul06/PRAKTIKUMBIGDATA/blob/main/TUGAS_BIGDATA_3.ipynb\" target=\"_parent\"><img src=\"https://colab.research.google.com/assets/colab-badge.svg\" alt=\"Open In Colab\"/></a>"
      ]
    },
    {
      "cell_type": "code",
      "execution_count": 3,
      "metadata": {
        "colab": {
          "base_uri": "https://localhost:8080/"
        },
        "id": "0QVZxNiLggdA",
        "outputId": "d8c97d0e-ffd3-476c-e5cf-0011aaf4fa37"
      },
      "outputs": [
        {
          "output_type": "stream",
          "name": "stdout",
          "text": [
            "halo: 1\n",
            "nama: 1\n",
            "saya: 3\n",
            "lutfi: 1\n",
            "suka: 1\n",
            "main: 1\n",
            "mobile: 1\n",
            "legends: 1\n",
            "lahir: 1\n",
            "di: 1\n",
            "madura: 1\n"
          ]
        }
      ],
      "source": [
        "from collections import defaultdict\n",
        "\n",
        "def map_function(text):\n",
        "    for word in text.split():\n",
        "        yield (word.lower(), 1)\n",
        "\n",
        "def reduce_function(pairs):\n",
        "    result = defaultdict(int)\n",
        "    for word, count in pairs:\n",
        "        result[word] += count\n",
        "    return result\n",
        "\n",
        "text = \"halo nama saya lutfi saya suka main mobile legends saya lahir di madura\"\n",
        "map = list(map_function(text))\n",
        "reduce = reduce_function(map)\n",
        "\n",
        "for word, count in reduce.items():\n",
        "    print(f\"{word}: {count}\")\n"
      ]
    }
  ]
}