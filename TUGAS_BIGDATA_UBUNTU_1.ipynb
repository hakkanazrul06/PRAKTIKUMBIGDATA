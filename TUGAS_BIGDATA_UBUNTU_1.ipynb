{
 "cells": [
  {
   "cell_type": "code",
   "execution_count": 1,
   "id": "936597b5-a3c3-4af1-989e-228527d8bf8e",
   "metadata": {},
   "outputs": [
    {
     "name": "stderr",
     "output_type": "stream",
     "text": [
      "WARNING: Using incubator modules: jdk.incubator.vector\n",
      "Using Spark's default log4j profile: org/apache/spark/log4j2-defaults.properties\n",
      "25/09/02 20:23:31 WARN Utils: Your hostname, hakkan-VirtualBox, resolves to a loopback address: 127.0.1.1; using 10.0.2.15 instead (on interface enp0s3)\n",
      "25/09/02 20:23:31 WARN Utils: Set SPARK_LOCAL_IP if you need to bind to another address\n",
      "Using Spark's default log4j profile: org/apache/spark/log4j2-defaults.properties\n",
      "Setting default log level to \"WARN\".\n",
      "To adjust logging level use sc.setLogLevel(newLevel). For SparkR, use setLogLevel(newLevel).\n",
      "25/09/02 20:23:32 WARN NativeCodeLoader: Unable to load native-hadoop library for your platform... using builtin-java classes where applicable\n",
      "                                                                                "
     ]
    },
    {
     "name": "stdout",
     "output_type": "stream",
     "text": [
      "+-----+----+---------+--------+---------+\n",
      "| Nama|Usia|Pekerjaan|    Hobi|   Gender|\n",
      "+-----+----+---------+--------+---------+\n",
      "|  Ali|  34|     Kuli| Workout|Laki-Laki|\n",
      "| Budi|  23|  Pelajar| Belajar|Perempuan|\n",
      "|Citra|  29|     Guru|Berenang|Laki-laki|\n",
      "| Dina|  45|   Satpam|  Boxing|Perempuan|\n",
      "+-----+----+---------+--------+---------+\n",
      "\n"
     ]
    }
   ],
   "source": [
    "#Exercise 1\n",
    "from pyspark.sql import SparkSession\n",
    "\n",
    "# Memulai Spark session\n",
    "spark = SparkSession.builder.appName(\"BigDataPractice\").getOrCreate()\n",
    "\n",
    "# Membuat DataFrame sederhana\n",
    "data = [(\"Ali\", 34, \"Kuli\", \"Workout\", \"Laki-Laki\"), (\"Budi\", 23, \"Pelajar\", \"Belajar\", \"Perempuan\"), (\"Citra\", 29, \"Guru\", \"Berenang\", \"Laki-laki\"), (\"Dina\", 45, \"Satpam\", \"Boxing\", \"Perempuan\")]\n",
    "columns = [\"Nama\", \"Usia\", \"Pekerjaan\", \"Hobi\", \"Gender\"]\n",
    "df = spark.createDataFrame(data, columns)\n",
    "\n",
    "# Menampilkan DataFrame\n",
    "df.show()"
   ]
  },
  {
   "cell_type": "code",
   "execution_count": 2,
   "id": "63262500-13e3-4ccc-b386-b1ec719a30ba",
   "metadata": {},
   "outputs": [
    {
     "name": "stdout",
     "output_type": "stream",
     "text": [
      "+-----+----+\n",
      "| Nama|Usia|\n",
      "+-----+----+\n",
      "|  Ali|  34|\n",
      "| Budi|  23|\n",
      "|Citra|  29|\n",
      "| Dina|  45|\n",
      "+-----+----+\n",
      "\n",
      "+----+----+\n",
      "|Nama|Usia|\n",
      "+----+----+\n",
      "| Ali|  34|\n",
      "|Dina|  45|\n",
      "+----+----+\n",
      "\n",
      "+---------+\n",
      "|avg(Usia)|\n",
      "+---------+\n",
      "|    32.75|\n",
      "+---------+\n",
      "\n",
      "+-----+----+\n",
      "| Nama|Usia|\n",
      "+-----+----+\n",
      "| Dina|  45|\n",
      "|  Ali|  34|\n",
      "|Citra|  29|\n",
      "| Budi|  23|\n",
      "+-----+----+\n",
      "\n"
     ]
    }
   ],
   "source": [
    "#Exercise 2\n",
    "from pyspark.sql import SparkSession\n",
    "\n",
    "# Memulai Spark session\n",
    "spark = SparkSession.builder.appName(\"BigDataPractice\").getOrCreate()\n",
    "\n",
    "# Membuat DataFrame sederhana\n",
    "data = [(\"Ali\", 34), (\"Budi\", 23), (\"Citra\", 29), (\"Dina\", 45)]\n",
    "columns = [\"Nama\", \"Usia\"]\n",
    "df = spark.createDataFrame(data, columns)\n",
    "\n",
    "# Menampilkan DataFrame\n",
    "df.show()\n",
    "\n",
    "# Filtering data\n",
    "df_filtered = df.filter(df['Usia'] > 30)\n",
    "df_filtered.show()\n",
    "\n",
    "# Menghitung rata-rata usia\n",
    "from pyspark.sql.functions import avg\n",
    "df.groupBy().agg(avg(\"Usia\")).show()\n",
    "\n",
    "# Mengurutkan data berdasarkan usia\n",
    "df_sorted = df.orderBy(\"Usia\", ascending=False)\n",
    "df_sorted.show()"
   ]
  },
  {
   "cell_type": "code",
   "execution_count": 3,
   "id": "5fcd6f9f-2950-474f-8714-8f92bca5c09f",
   "metadata": {},
   "outputs": [
    {
     "data": {
      "text/html": [
       "<div>\n",
       "<style scoped>\n",
       "    .dataframe tbody tr th:only-of-type {\n",
       "        vertical-align: middle;\n",
       "    }\n",
       "\n",
       "    .dataframe tbody tr th {\n",
       "        vertical-align: top;\n",
       "    }\n",
       "\n",
       "    .dataframe thead th {\n",
       "        text-align: right;\n",
       "    }\n",
       "</style>\n",
       "<table border=\"1\" class=\"dataframe\">\n",
       "  <thead>\n",
       "    <tr style=\"text-align: right;\">\n",
       "      <th></th>\n",
       "      <th>Nama</th>\n",
       "      <th>Usia</th>\n",
       "      <th>Hobi</th>\n",
       "    </tr>\n",
       "  </thead>\n",
       "  <tbody>\n",
       "    <tr>\n",
       "      <th>0</th>\n",
       "      <td>Ali</td>\n",
       "      <td>34</td>\n",
       "      <td>Workout</td>\n",
       "    </tr>\n",
       "    <tr>\n",
       "      <th>3</th>\n",
       "      <td>Dina</td>\n",
       "      <td>45</td>\n",
       "      <td>Bermain basket</td>\n",
       "    </tr>\n",
       "  </tbody>\n",
       "</table>\n",
       "</div>"
      ],
      "text/plain": [
       "   Nama  Usia            Hobi\n",
       "0   Ali    34         Workout\n",
       "3  Dina    45  Bermain basket"
      ]
     },
     "execution_count": 3,
     "metadata": {},
     "output_type": "execute_result"
    }
   ],
   "source": [
    "#Exercise 3\n",
    "import pandas as pd\n",
    "\n",
    "# Membuat DataFrame Pandas\n",
    "data_pandas = {\"Nama\": [\"Ali\", \"Budi\", \"Citra\", \"Dina\"],\n",
    "               \"Usia\": [34, 23, 29, 45],\n",
    "               \"Hobi\": [\"Workout\", \"Boxing\", \"Bernyanyi\", \"Bermain basket\"]}\n",
    "df_pandas = pd.DataFrame(data_pandas)\n",
    "\n",
    "df_filtered = df_pandas[df_pandas['Usia'] > 30]\n",
    "df_filtered\n",
    "\n",
    "# Menampilkan DataFrame Pandas"
   ]
  },
  {
   "cell_type": "code",
   "execution_count": 4,
   "id": "3d4717d5-9bc5-4874-8dc4-eaf58cb6c94c",
   "metadata": {},
   "outputs": [
    {
     "name": "stdout",
     "output_type": "stream",
     "text": [
      "    Nama  Usia Tempat Tinggal\n",
      "0    Ali    34        Jakarta\n",
      "1   Budi    23          Jogja\n",
      "2  Citra    29        Kebumen\n",
      "3   Dina    45       Magelang\n",
      "            Usia\n",
      "count   4.000000\n",
      "mean   32.750000\n",
      "std     9.322911\n",
      "min    23.000000\n",
      "25%    27.500000\n",
      "50%    31.500000\n",
      "75%    36.750000\n",
      "max    45.000000\n"
     ]
    },
    {
     "data": {
      "image/png": "[encoded data removed]",
      "text/plain": [
       "<Figure size 640x480 with 1 Axes>"
      ]
     },
     "metadata": {},
     "output_type": "display_data"
    }
   ],
   "source": [
    "#Exercise 4\n",
    "import pandas as pd\n",
    "\n",
    "# Membuat DataFrame Pandas\n",
    "data_pandas = {\"Nama\": [\"Ali\", \"Budi\", \"Citra\", \"Dina\"], \"Usia\": [34, 23, 29, 45]}\n",
    "df_pandas = pd.DataFrame(data_pandas)\n",
    "\n",
    "# Membuat DataFrame kedua\n",
    "data_pandas_2 = {\"Nama\": [\"Ali\", \"Budi\", \"Citra\", \"Dina\"], \"Tempat Tinggal\": [\"Jakarta\", \"Jogja\", \"Kebumen\", \"Magelang\"]}\n",
    "df_pandas_2 = pd.DataFrame(data_pandas_2)\n",
    "\n",
    "# Join antara dua DataFrame\n",
    "df_joined = pd.merge(df_pandas, df_pandas_2, on=\"Nama\")\n",
    "print(df_joined)\n",
    "\n",
    "# Menghitung statistik deskriptif\n",
    "print(df_pandas.describe())\n",
    "\n",
    "# Plotting Data\n",
    "import matplotlib.pyplot as plt\n",
    "df_pandas['Usia'].plot(kind='bar')\n",
    "plt.show()"
   ]
  },
  {
   "cell_type": "code",
   "execution_count": 5,
   "id": "46609e75-f706-4208-a68b-f0c0febc26f3",
   "metadata": {},
   "outputs": [
    {
     "name": "stdout",
     "output_type": "stream",
     "text": [
      "DataFrame yang digabungkan dari PySpark dan Pandas:\n",
      "    Nama  Usia Pekerjaan      Hobi     Gender Tempat Tinggal\n",
      "0    Ali    34      Kuli   Workout  Laki-Laki        Jakarta\n",
      "1   Budi    23   Pelajar   Belajar  Perempuan          Jogja\n",
      "2  Citra    29      Guru  Berenang  Laki-laki        Kebumen\n",
      "3   Dina    45    Satpam    Boxing  Perempuan       Magelang\n",
      "Rata-rata usia dari kedua data: 32.75\n"
     ]
    }
   ],
   "source": [
    "from pyspark.sql import SparkSession\n",
    "import pandas as pd\n",
    "\n",
    "# Pyspark\n",
    "spark = SparkSession.builder.appName(\"BigDataPractice\").getOrCreate()\n",
    "\n",
    "data_spark = [\n",
    "    (\"Ali\", 34, \"Kuli\", \"Workout\", \"Laki-Laki\"),\n",
    "    (\"Budi\", 23, \"Pelajar\", \"Belajar\", \"Perempuan\"),\n",
    "    (\"Citra\", 29, \"Guru\", \"Berenang\", \"Laki-laki\"),\n",
    "    (\"Dina\", 45, \"Satpam\", \"Boxing\", \"Perempuan\")\n",
    "]\n",
    "columns_spark = [\"Nama\", \"Usia\", \"Pekerjaan\", \"Hobi\", \"Gender\"]\n",
    "df_spark = spark.createDataFrame(data_spark, columns_spark)\n",
    "\n",
    "df_pyspark_to_pandas = df_spark.toPandas()\n",
    "\n",
    "new_data_pandas = {\"Nama\": [\"Ali\", \"Budi\", \"Citra\", \"Dina\"], \"Tempat Tinggal\": [\"Jakarta\", \"Jogja\", \"Kebumen\", \"Magelang\"]}\n",
    "df_new_pandas = pd.DataFrame(new_data_pandas)\n",
    "\n",
    "df_merge = pd.merge(df_pyspark_to_pandas, df_new_pandas, on=\"Nama\")\n",
    "print(\"DataFrame yang digabungkan dari PySpark dan Pandas:\")\n",
    "print(df_merge)\n",
    "\n",
    "rata_rata_usia = df_merge['Usia'].mean()\n",
    "print(f\"Rata-rata usia dari kedua data: {rata_rata_usia}\")"
   ]
  },
  {
   "cell_type": "code",
   "execution_count": 6,
   "id": "014604ca-2ce5-458f-8d1b-2edcfe81efc7",
   "metadata": {},
   "outputs": [
    {
     "name": "stdout",
     "output_type": "stream",
     "text": [
      "DataFrame yang digabungkan dari PySpark dan Pandas:\n",
      "    Nama  Usia Pekerjaan      Hobi     Gender Tempat Tinggal\n",
      "0    Ali    34      Kuli   Workout  Laki-Laki        Jakarta\n",
      "1   Budi    23   Pelajar   Belajar  Perempuan          Jogja\n",
      "2  Citra    29      Guru  Berenang  Laki-laki        Kebumen\n",
      "3   Dina    45    Satpam    Boxing  Perempuan       Magelang\n",
      "Max usia dari kedua data: 45\n"
     ]
    }
   ],
   "source": [
    "#Exercise 6\n",
    "from pyspark.sql import SparkSession\n",
    "import pandas as pd\n",
    "\n",
    "# Pyspark\n",
    "spark = SparkSession.builder.appName(\"BigDataPractice\").getOrCreate()\n",
    "\n",
    "data_spark = [\n",
    "    (\"Ali\", 34, \"Kuli\", \"Workout\", \"Laki-Laki\"),\n",
    "    (\"Budi\", 23, \"Pelajar\", \"Belajar\", \"Perempuan\"),\n",
    "    (\"Citra\", 29, \"Guru\", \"Berenang\", \"Laki-laki\"),\n",
    "    (\"Dina\", 45, \"Satpam\", \"Boxing\", \"Perempuan\")\n",
    "]\n",
    "columns_spark = [\"Nama\", \"Usia\", \"Pekerjaan\", \"Hobi\", \"Gender\"]\n",
    "df_spark = spark.createDataFrame(data_spark, columns_spark)\n",
    "\n",
    "df_pyspark_to_pandas = df_spark.toPandas()\n",
    "\n",
    "new_data_pandas = {\"Nama\": [\"Ali\", \"Budi\", \"Citra\", \"Dina\"], \"Tempat Tinggal\": [\"Jakarta\", \"Jogja\", \"Kebumen\", \"Magelang\"]}\n",
    "df_new_pandas = pd.DataFrame(new_data_pandas)\n",
    "\n",
    "df_merge = pd.merge(df_pyspark_to_pandas, df_new_pandas, on=\"Nama\")\n",
    "print(\"DataFrame yang digabungkan dari PySpark dan Pandas:\")\n",
    "print(df_merge)\n",
    "\n",
    "max_usia = df_merge['Usia'].max()\n",
    "print(f\"Max usia dari kedua data: {max_usia}\")"
   ]
  },
  {
   "cell_type": "code",
   "execution_count": null,
   "id": "f4a1b38f-fa39-45c2-81c1-d48a3712b646",
   "metadata": {},
   "outputs": [],
   "source": []
  }
 ],
 "metadata": {
  "kernelspec": {
   "display_name": "Python 3 (ipykernel)",
   "language": "python",
   "name": "python3"
  },
  "language_info": {
   "codemirror_mode": {
    "name": "ipython",
    "version": 3
   },
   "file_extension": ".py",
   "mimetype": "text/x-python",
   "name": "python",
   "nbconvert_exporter": "python",
   "pygments_lexer": "ipython3",
   "version": "3.13.5"
  }
 },
 "nbformat": 4,
 "nbformat_minor": 5
}
